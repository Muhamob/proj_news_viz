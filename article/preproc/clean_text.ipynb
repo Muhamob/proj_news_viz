{
 "cells": [
  {
   "cell_type": "code",
   "execution_count": 2,
   "metadata": {},
   "outputs": [
    {
     "name": "stdout",
     "output_type": "stream",
     "text": [
      "/home/vtrokhymenko/anaconda3/bin/python\n",
      "Python 3.6.8 :: Anaconda, Inc.\n"
     ]
    }
   ],
   "source": [
    "!which python\n",
    "!python -V"
   ]
  },
  {
   "cell_type": "markdown",
   "metadata": {},
   "source": [
    "### import some libs"
   ]
  },
  {
   "cell_type": "code",
   "execution_count": 3,
   "metadata": {},
   "outputs": [],
   "source": [
    "import os\n",
    "import warnings\n",
    "warnings.filterwarnings('ignore')"
   ]
  },
  {
   "cell_type": "code",
   "execution_count": 26,
   "metadata": {},
   "outputs": [],
   "source": [
    "import pandas as pd\n",
    "import numpy as np\n",
    "import re\n",
    "\n",
    "# from collections import Counter\n",
    "# import matplotlib.pyplot as plt\n",
    "# %matplotlib inline"
   ]
  },
  {
   "cell_type": "code",
   "execution_count": 9,
   "metadata": {},
   "outputs": [
    {
     "data": {
      "text/plain": [
       "'/home/vtrokhymenko/proj_news_radar/proj_news_viz/article'"
      ]
     },
     "execution_count": 9,
     "metadata": {},
     "output_type": "execute_result"
    }
   ],
   "source": [
    "# set path \n",
    "home_path = os.getenv('HOME') # create home directory\n",
    "dir_project = 'proj_news_radar/proj_news_viz' # write your main proj directory \n",
    "\n",
    "path = os.path.join(home_path, dir_project,'article') # will be work with directory `article`\n",
    "path"
   ]
  },
  {
   "cell_type": "code",
   "execution_count": null,
   "metadata": {},
   "outputs": [],
   "source": []
  },
  {
   "cell_type": "markdown",
   "metadata": {},
   "source": [
    "### load data"
   ]
  },
  {
   "cell_type": "code",
   "execution_count": 12,
   "metadata": {},
   "outputs": [
    {
     "name": "stdout",
     "output_type": "stream",
     "text": [
      "total 765M\n",
      "drwxrwxr-x 2 vtrokhymenko vtrokhymenko 4.0K Jun 30 17:19 .\n",
      "drwxrwxr-x 4 vtrokhymenko vtrokhymenko 4.0K Jun 30 16:43 ..\n",
      "-rw-rw-r-- 1 vtrokhymenko vtrokhymenko    1 Jun 30 16:46 .gitkeep\n",
      "-rw-rw-r-- 1 vtrokhymenko vtrokhymenko 289M Nov 15  2018 lenta.tar.bz2\n",
      "-rw-rw-r-- 1 vtrokhymenko vtrokhymenko 477M Jul 18  2018 news_lenta.csv.gz\n"
     ]
    }
   ],
   "source": [
    "!ls -lah {path}/data"
   ]
  },
  {
   "cell_type": "code",
   "execution_count": 7,
   "metadata": {},
   "outputs": [
    {
     "name": "stdout",
     "output_type": "stream",
     "text": [
      "(699746, 3)\n"
     ]
    },
    {
     "data": {
      "text/html": [
       "<div>\n",
       "<style scoped>\n",
       "    .dataframe tbody tr th:only-of-type {\n",
       "        vertical-align: middle;\n",
       "    }\n",
       "\n",
       "    .dataframe tbody tr th {\n",
       "        vertical-align: top;\n",
       "    }\n",
       "\n",
       "    .dataframe thead th {\n",
       "        text-align: right;\n",
       "    }\n",
       "</style>\n",
       "<table border=\"1\" class=\"dataframe\">\n",
       "  <thead>\n",
       "    <tr style=\"text-align: right;\">\n",
       "      <th></th>\n",
       "      <th>text</th>\n",
       "      <th>title</th>\n",
       "      <th>topic</th>\n",
       "    </tr>\n",
       "  </thead>\n",
       "  <tbody>\n",
       "    <tr>\n",
       "      <th>0</th>\n",
       "      <td>Миллиардер Илон Маск в резкой форме ответил бр...</td>\n",
       "      <td>Илон Маск назвал педофилом спасавшего детей из...</td>\n",
       "      <td>Мир</td>\n",
       "    </tr>\n",
       "    <tr>\n",
       "      <th>1</th>\n",
       "      <td>США и их западные союзники рассматривают возмо...</td>\n",
       "      <td>США задумались о распечатывании нефтяного резерва</td>\n",
       "      <td>Экономика</td>\n",
       "    </tr>\n",
       "    <tr>\n",
       "      <th>2</th>\n",
       "      <td>Празднование победы сборной Франции на чемпион...</td>\n",
       "      <td>Празднование победы на ЧМ во Франции закончило...</td>\n",
       "      <td>Мир</td>\n",
       "    </tr>\n",
       "    <tr>\n",
       "      <th>3</th>\n",
       "      <td>География использования лимузинов проекта «Кор...</td>\n",
       "      <td>Песков рассказал о планах на президентские лим...</td>\n",
       "      <td>Россия</td>\n",
       "    </tr>\n",
       "    <tr>\n",
       "      <th>4</th>\n",
       "      <td>Американская поп-певица Бритни Спирс случайно ...</td>\n",
       "      <td>Грудь Бритни Спирс вновь выскочила из лифчика ...</td>\n",
       "      <td>Культура</td>\n",
       "    </tr>\n",
       "  </tbody>\n",
       "</table>\n",
       "</div>"
      ],
      "text/plain": [
       "                                                text  \\\n",
       "0  Миллиардер Илон Маск в резкой форме ответил бр...   \n",
       "1  США и их западные союзники рассматривают возмо...   \n",
       "2  Празднование победы сборной Франции на чемпион...   \n",
       "3  География использования лимузинов проекта «Кор...   \n",
       "4  Американская поп-певица Бритни Спирс случайно ...   \n",
       "\n",
       "                                               title      topic  \n",
       "0  Илон Маск назвал педофилом спасавшего детей из...        Мир  \n",
       "1  США задумались о распечатывании нефтяного резерва  Экономика  \n",
       "2  Празднование победы на ЧМ во Франции закончило...        Мир  \n",
       "3  Песков рассказал о планах на президентские лим...     Россия  \n",
       "4  Грудь Бритни Спирс вновь выскочила из лифчика ...   Культура  "
      ]
     },
     "execution_count": 7,
     "metadata": {},
     "output_type": "execute_result"
    }
   ],
   "source": [
    "df = pd.read_csv(f'{path}/data/news_lenta.csv.gz', usecols=['topic','title','text'])\n",
    "print(df.shape)\n",
    "df.head()"
   ]
  },
  {
   "cell_type": "code",
   "execution_count": 10,
   "metadata": {},
   "outputs": [
    {
     "name": "stdout",
     "output_type": "stream",
     "text": [
      "<class 'pandas.core.frame.DataFrame'>\n",
      "RangeIndex: 699746 entries, 0 to 699745\n",
      "Data columns (total 3 columns):\n",
      "text     699746 non-null object\n",
      "title    699746 non-null object\n",
      "topic    699746 non-null object\n",
      "dtypes: object(3)\n",
      "memory usage: 16.0+ MB\n"
     ]
    }
   ],
   "source": [
    "df.info()"
   ]
  },
  {
   "cell_type": "code",
   "execution_count": null,
   "metadata": {},
   "outputs": [],
   "source": []
  },
  {
   "cell_type": "code",
   "execution_count": 64,
   "metadata": {},
   "outputs": [],
   "source": [
    "def clean_text(input_text: str) -> str:\n",
    "    \"\"\"\n",
    "    очистка текста от всякого рода булшита и треша\n",
    "    \n",
    "    :param text: какйо-то текст\n",
    "    :return: out_text: очищенный текст\n",
    "    \"\"\"\n",
    "    \n",
    "    # проверяем текст на тип `str`\n",
    "    if not isinstance(input_text, str):\n",
    "        input_text = str(input_text)\n",
    "    \n",
    "    text = input_text.lower()\n",
    "    \n",
    "    text = text.strip('\\n').strip('\\r').strip('\\t')\n",
    "    text = re.sub(\"-\\s\\r\\n\\|-\\s\\r\\n|\\r\\n\", '', str(text))\n",
    "\n",
    "    text = re.sub(\"[0-9]|[-—.,:;_%©«»?*!@#№$^•·&()\\\"]|[+=]|[[]|[]]|[/]|\", '', text)\n",
    "    text = re.sub(r\"\\r\\n\\t|\\n|\\\\s|\\r\\t|\\\\n\", ' ', text)\n",
    "    text = re.sub('\\s{2,}', ' ', text) # дропаем длинные пробелы\n",
    "    \n",
    "    text = re.sub('(\\s(.)\\s)', ' ', text) # \n",
    "    out_text = re.sub('(\\s[1-9]\\s)', ' ', text) # \n",
    "    \n",
    "    #out_text = re.sub(r'[\\xad]|[\\s+]', ' ', text.strip())\n",
    "\n",
    "    return out_text"
   ]
  },
  {
   "cell_type": "code",
   "execution_count": 67,
   "metadata": {},
   "outputs": [
    {
     "name": "stdout",
     "output_type": "stream",
     "text": [
      "#369237\n",
      "Арестованное российскими пограничниками судно \"Георг Стеллер\"  не смогло забрать с необитаемых островов около 20 участников российско-американской экспедиции. Об этом сообщает Радио \"СВ\". Как заявили радиостанции в береговой охране, после ареста судна выяснилось, что на борту находятся 11 из 29 пассажиров. Капитан \"Георга Стеллера\" рассказал, что все отсутствующие пассажиры находятся на островах с экспедицией. Капитан  пограничного сторожевого корабля \"Воровский\", проводившего задержание судна, в свою очередь решил отконвоировать его в порт. По информации радио, \"Георг Стеллер\" был задержан за неоднократные нарушения пограничного законодательства. Как отмечает интернет-издание \"Вечерние вести Петропавловска\", со ссылкой на Северо-восточное пограничное управление береговой охраны ФСБ РФ, официальное сообщение о задержании судна проходит согласование в вышестоящих структурах. В то же время, по словам собеседника издания в пресс-службе береговой охраны, никто не собирается обвинять пассажиров \"Георга Стеллера\" в том, что они \"расстреливали подводные лодки\". Об аресте судна \"Георг Стеллер\" у берегов камчатских Командорских островов стало известно утром 6 июля. Оно было отконвоировано в Петропавловск-Камчатский. По неофициальной информации, пограничники провели на судне обыск и изъяли все научное оборудование, а также личные компьютеры ученых. Обыскам также подверглась группа ученых на острове Медный.\n",
      "\n",
      "clean text:\n",
      "арестованное российскими пограничниками судно георг стеллер не смогло забрать необитаемых островов около участников российскоамериканской экспедиции об этом сообщает радио св как заявили радиостанции береговой охране после ареста судна выяснилось что на борту находятся из пассажиров капитан георга стеллера рассказал что все отсутствующие пассажиры находятся на островах экспедицией капитан пограничного сторожевого корабля воровский проводившего задержание судна свою очередь решил отконвоировать его порт по информации радио георг стеллер был задержан за неоднократные нарушения пограничного законодательства как отмечает интернетиздание вечерние вести петропавловска со ссылкой на северовосточное пограничное управление береговой охраны фсб рф официальное сообщение задержании судна проходит согласование вышестоящих структурах то же время по словам собеседника издания прессслужбе береговой охраны никто не собирается обвинять пассажиров георга стеллера том что они расстреливали подводные лодки об аресте судна георг стеллер берегов камчатских командорских островов стало известно утром июля оно было отконвоировано петропавловсккамчатский по неофициальной информации пограничники провели на судне обыск изъяли все научное оборудование также личные компьютеры ученых обыскам также подверглась группа ученых на острове медный\n"
     ]
    }
   ],
   "source": [
    "random_index_text = np.random.randint(df.shape[0])\n",
    "random_text = df.text[random_index_text]\n",
    "\n",
    "print(f'#{random_index_text}\\n{random_text}')\n",
    "print(f'\\nclean text:\\n{clean_text(random_text)}')"
   ]
  },
  {
   "cell_type": "code",
   "execution_count": null,
   "metadata": {},
   "outputs": [],
   "source": []
  },
  {
   "cell_type": "code",
   "execution_count": null,
   "metadata": {},
   "outputs": [],
   "source": []
  },
  {
   "cell_type": "code",
   "execution_count": null,
   "metadata": {},
   "outputs": [],
   "source": []
  },
  {
   "cell_type": "code",
   "execution_count": null,
   "metadata": {},
   "outputs": [],
   "source": []
  },
  {
   "cell_type": "code",
   "execution_count": null,
   "metadata": {},
   "outputs": [],
   "source": []
  }
 ],
 "metadata": {
  "kernelspec": {
   "display_name": "Python 3",
   "language": "python",
   "name": "python3"
  },
  "language_info": {
   "codemirror_mode": {
    "name": "ipython",
    "version": 3
   },
   "file_extension": ".py",
   "mimetype": "text/x-python",
   "name": "python",
   "nbconvert_exporter": "python",
   "pygments_lexer": "ipython3",
   "version": "3.6.8"
  }
 },
 "nbformat": 4,
 "nbformat_minor": 2
}
