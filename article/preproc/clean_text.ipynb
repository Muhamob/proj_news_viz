{
 "cells": [
  {
   "cell_type": "code",
   "execution_count": 2,
   "metadata": {},
   "outputs": [
    {
     "name": "stdout",
     "output_type": "stream",
     "text": [
      "/home/vtrokhymenko/anaconda3/bin/python\n",
      "Python 3.6.8 :: Anaconda, Inc.\n"
     ]
    }
   ],
   "source": [
    "!which python\n",
    "!python -V"
   ]
  },
  {
   "cell_type": "markdown",
   "metadata": {},
   "source": [
    "### import some libs"
   ]
  },
  {
   "cell_type": "code",
   "execution_count": 3,
   "metadata": {},
   "outputs": [],
   "source": [
    "import os\n",
    "import warnings\n",
    "warnings.filterwarnings('ignore')"
   ]
  },
  {
   "cell_type": "code",
   "execution_count": 4,
   "metadata": {},
   "outputs": [],
   "source": [
    "import pandas as pd\n",
    "import numpy as np\n",
    "from collections import Counter\n",
    "\n",
    "import matplotlib.pyplot as plt\n",
    "%matplotlib inline"
   ]
  },
  {
   "cell_type": "code",
   "execution_count": 9,
   "metadata": {},
   "outputs": [
    {
     "data": {
      "text/plain": [
       "'/home/vtrokhymenko/proj_news_radar/proj_news_viz/article'"
      ]
     },
     "execution_count": 9,
     "metadata": {},
     "output_type": "execute_result"
    }
   ],
   "source": [
    "# set path \n",
    "home_path = os.getenv('HOME') # create home directory\n",
    "dir_project = 'proj_news_radar/proj_news_viz' # write your main proj directory \n",
    "\n",
    "path = os.path.join(home_path, dir_project,'article') # will be work with directory `article`\n",
    "path"
   ]
  },
  {
   "cell_type": "code",
   "execution_count": null,
   "metadata": {},
   "outputs": [],
   "source": []
  },
  {
   "cell_type": "markdown",
   "metadata": {},
   "source": [
    "### load data"
   ]
  },
  {
   "cell_type": "code",
   "execution_count": 12,
   "metadata": {},
   "outputs": [
    {
     "name": "stdout",
     "output_type": "stream",
     "text": [
      "total 765M\n",
      "drwxrwxr-x 2 vtrokhymenko vtrokhymenko 4.0K Jun 30 17:19 .\n",
      "drwxrwxr-x 4 vtrokhymenko vtrokhymenko 4.0K Jun 30 16:43 ..\n",
      "-rw-rw-r-- 1 vtrokhymenko vtrokhymenko    1 Jun 30 16:46 .gitkeep\n",
      "-rw-rw-r-- 1 vtrokhymenko vtrokhymenko 289M Nov 15  2018 lenta.tar.bz2\n",
      "-rw-rw-r-- 1 vtrokhymenko vtrokhymenko 477M Jul 18  2018 news_lenta.csv.gz\n"
     ]
    }
   ],
   "source": [
    "!ls -lah {path}/data"
   ]
  },
  {
   "cell_type": "code",
   "execution_count": 7,
   "metadata": {},
   "outputs": [
    {
     "name": "stdout",
     "output_type": "stream",
     "text": [
      "(699746, 3)\n"
     ]
    },
    {
     "data": {
      "text/html": [
       "<div>\n",
       "<style scoped>\n",
       "    .dataframe tbody tr th:only-of-type {\n",
       "        vertical-align: middle;\n",
       "    }\n",
       "\n",
       "    .dataframe tbody tr th {\n",
       "        vertical-align: top;\n",
       "    }\n",
       "\n",
       "    .dataframe thead th {\n",
       "        text-align: right;\n",
       "    }\n",
       "</style>\n",
       "<table border=\"1\" class=\"dataframe\">\n",
       "  <thead>\n",
       "    <tr style=\"text-align: right;\">\n",
       "      <th></th>\n",
       "      <th>text</th>\n",
       "      <th>title</th>\n",
       "      <th>topic</th>\n",
       "    </tr>\n",
       "  </thead>\n",
       "  <tbody>\n",
       "    <tr>\n",
       "      <th>0</th>\n",
       "      <td>Миллиардер Илон Маск в резкой форме ответил бр...</td>\n",
       "      <td>Илон Маск назвал педофилом спасавшего детей из...</td>\n",
       "      <td>Мир</td>\n",
       "    </tr>\n",
       "    <tr>\n",
       "      <th>1</th>\n",
       "      <td>США и их западные союзники рассматривают возмо...</td>\n",
       "      <td>США задумались о распечатывании нефтяного резерва</td>\n",
       "      <td>Экономика</td>\n",
       "    </tr>\n",
       "    <tr>\n",
       "      <th>2</th>\n",
       "      <td>Празднование победы сборной Франции на чемпион...</td>\n",
       "      <td>Празднование победы на ЧМ во Франции закончило...</td>\n",
       "      <td>Мир</td>\n",
       "    </tr>\n",
       "    <tr>\n",
       "      <th>3</th>\n",
       "      <td>География использования лимузинов проекта «Кор...</td>\n",
       "      <td>Песков рассказал о планах на президентские лим...</td>\n",
       "      <td>Россия</td>\n",
       "    </tr>\n",
       "    <tr>\n",
       "      <th>4</th>\n",
       "      <td>Американская поп-певица Бритни Спирс случайно ...</td>\n",
       "      <td>Грудь Бритни Спирс вновь выскочила из лифчика ...</td>\n",
       "      <td>Культура</td>\n",
       "    </tr>\n",
       "  </tbody>\n",
       "</table>\n",
       "</div>"
      ],
      "text/plain": [
       "                                                text  \\\n",
       "0  Миллиардер Илон Маск в резкой форме ответил бр...   \n",
       "1  США и их западные союзники рассматривают возмо...   \n",
       "2  Празднование победы сборной Франции на чемпион...   \n",
       "3  География использования лимузинов проекта «Кор...   \n",
       "4  Американская поп-певица Бритни Спирс случайно ...   \n",
       "\n",
       "                                               title      topic  \n",
       "0  Илон Маск назвал педофилом спасавшего детей из...        Мир  \n",
       "1  США задумались о распечатывании нефтяного резерва  Экономика  \n",
       "2  Празднование победы на ЧМ во Франции закончило...        Мир  \n",
       "3  Песков рассказал о планах на президентские лим...     Россия  \n",
       "4  Грудь Бритни Спирс вновь выскочила из лифчика ...   Культура  "
      ]
     },
     "execution_count": 7,
     "metadata": {},
     "output_type": "execute_result"
    }
   ],
   "source": [
    "df = pd.read_csv(f'{path}/data/news_lenta.csv.gz', usecols=['topic','title','text'])\n",
    "print(df.shape)\n",
    "df.head()"
   ]
  },
  {
   "cell_type": "code",
   "execution_count": 10,
   "metadata": {},
   "outputs": [
    {
     "name": "stdout",
     "output_type": "stream",
     "text": [
      "<class 'pandas.core.frame.DataFrame'>\n",
      "RangeIndex: 699746 entries, 0 to 699745\n",
      "Data columns (total 3 columns):\n",
      "text     699746 non-null object\n",
      "title    699746 non-null object\n",
      "topic    699746 non-null object\n",
      "dtypes: object(3)\n",
      "memory usage: 16.0+ MB\n"
     ]
    }
   ],
   "source": [
    "df.info()"
   ]
  },
  {
   "cell_type": "code",
   "execution_count": null,
   "metadata": {},
   "outputs": [],
   "source": []
  },
  {
   "cell_type": "code",
   "execution_count": null,
   "metadata": {},
   "outputs": [],
   "source": []
  },
  {
   "cell_type": "code",
   "execution_count": null,
   "metadata": {},
   "outputs": [],
   "source": []
  },
  {
   "cell_type": "code",
   "execution_count": null,
   "metadata": {},
   "outputs": [],
   "source": []
  },
  {
   "cell_type": "code",
   "execution_count": null,
   "metadata": {},
   "outputs": [],
   "source": []
  },
  {
   "cell_type": "code",
   "execution_count": null,
   "metadata": {},
   "outputs": [],
   "source": []
  },
  {
   "cell_type": "code",
   "execution_count": null,
   "metadata": {},
   "outputs": [],
   "source": []
  },
  {
   "cell_type": "code",
   "execution_count": null,
   "metadata": {},
   "outputs": [],
   "source": []
  },
  {
   "cell_type": "code",
   "execution_count": null,
   "metadata": {},
   "outputs": [],
   "source": []
  }
 ],
 "metadata": {
  "kernelspec": {
   "display_name": "Python 3",
   "language": "python",
   "name": "python3"
  },
  "language_info": {
   "codemirror_mode": {
    "name": "ipython",
    "version": 3
   },
   "file_extension": ".py",
   "mimetype": "text/x-python",
   "name": "python",
   "nbconvert_exporter": "python",
   "pygments_lexer": "ipython3",
   "version": "3.6.8"
  }
 },
 "nbformat": 4,
 "nbformat_minor": 2
}
