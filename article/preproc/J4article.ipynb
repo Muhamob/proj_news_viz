{
 "cells": [
  {
   "cell_type": "code",
   "execution_count": 2,
   "metadata": {},
   "outputs": [],
   "source": [
    "import numpy as np\n",
    "import pandas as pd\n",
    "import matplotlib.pyplot as plt\n",
    "import warnings\n",
    "from collections import Counter\n",
    "warnings.filterwarnings('ignore')\n",
    "%matplotlib inline"
   ]
  },
  {
   "cell_type": "code",
   "execution_count": 3,
   "metadata": {},
   "outputs": [],
   "source": [
    "import eli5"
   ]
  },
  {
   "cell_type": "code",
   "execution_count": null,
   "metadata": {},
   "outputs": [],
   "source": []
  },
  {
   "cell_type": "markdown",
   "metadata": {},
   "source": [
    "---"
   ]
  },
  {
   "cell_type": "code",
   "execution_count": 3,
   "metadata": {},
   "outputs": [],
   "source": [
    "#!wget https://github.com/buriy/russian-nlp-datasets/releases/download/r4/lenta.tar.bz2"
   ]
  },
  {
   "cell_type": "code",
   "execution_count": 4,
   "metadata": {},
   "outputs": [
    {
     "name": "stdout",
     "output_type": "stream",
     "text": [
      "(699746, 5)\n"
     ]
    },
    {
     "data": {
      "text/html": [
       "<div>\n",
       "<style scoped>\n",
       "    .dataframe tbody tr th:only-of-type {\n",
       "        vertical-align: middle;\n",
       "    }\n",
       "\n",
       "    .dataframe tbody tr th {\n",
       "        vertical-align: top;\n",
       "    }\n",
       "\n",
       "    .dataframe thead th {\n",
       "        text-align: right;\n",
       "    }\n",
       "</style>\n",
       "<table border=\"1\" class=\"dataframe\">\n",
       "  <thead>\n",
       "    <tr style=\"text-align: right;\">\n",
       "      <th></th>\n",
       "      <th>tags</th>\n",
       "      <th>text</th>\n",
       "      <th>title</th>\n",
       "      <th>topic</th>\n",
       "      <th>url</th>\n",
       "    </tr>\n",
       "  </thead>\n",
       "  <tbody>\n",
       "    <tr>\n",
       "      <th>0</th>\n",
       "      <td>Общество</td>\n",
       "      <td>Миллиардер Илон Маск в резкой форме ответил бр...</td>\n",
       "      <td>Илон Маск назвал педофилом спасавшего детей из...</td>\n",
       "      <td>Мир</td>\n",
       "      <td>https://lenta.ru/news/2018/07/16/su57/</td>\n",
       "    </tr>\n",
       "    <tr>\n",
       "      <th>1</th>\n",
       "      <td>Рынки</td>\n",
       "      <td>США и их западные союзники рассматривают возмо...</td>\n",
       "      <td>США задумались о распечатывании нефтяного резерва</td>\n",
       "      <td>Экономика</td>\n",
       "      <td>https://lenta.ru/news/2018/07/16/foes/</td>\n",
       "    </tr>\n",
       "    <tr>\n",
       "      <th>2</th>\n",
       "      <td>Преступность</td>\n",
       "      <td>Празднование победы сборной Франции на чемпион...</td>\n",
       "      <td>Празднование победы на ЧМ во Франции закончило...</td>\n",
       "      <td>Мир</td>\n",
       "      <td>https://lenta.ru/news/2018/07/15/fra_bezumie/</td>\n",
       "    </tr>\n",
       "    <tr>\n",
       "      <th>3</th>\n",
       "      <td>Политика</td>\n",
       "      <td>География использования лимузинов проекта «Кор...</td>\n",
       "      <td>Песков рассказал о планах на президентские лим...</td>\n",
       "      <td>Россия</td>\n",
       "      <td>https://lenta.ru/news/2018/07/16/delo_shyut/</td>\n",
       "    </tr>\n",
       "    <tr>\n",
       "      <th>4</th>\n",
       "      <td>Музыка</td>\n",
       "      <td>Американская поп-певица Бритни Спирс случайно ...</td>\n",
       "      <td>Грудь Бритни Спирс вновь выскочила из лифчика ...</td>\n",
       "      <td>Культура</td>\n",
       "      <td>https://lenta.ru/news/2018/07/16/pedomusk/</td>\n",
       "    </tr>\n",
       "  </tbody>\n",
       "</table>\n",
       "</div>"
      ],
      "text/plain": [
       "           tags                                               text  \\\n",
       "0      Общество  Миллиардер Илон Маск в резкой форме ответил бр...   \n",
       "1         Рынки  США и их западные союзники рассматривают возмо...   \n",
       "2  Преступность  Празднование победы сборной Франции на чемпион...   \n",
       "3      Политика  География использования лимузинов проекта «Кор...   \n",
       "4        Музыка  Американская поп-певица Бритни Спирс случайно ...   \n",
       "\n",
       "                                               title      topic  \\\n",
       "0  Илон Маск назвал педофилом спасавшего детей из...        Мир   \n",
       "1  США задумались о распечатывании нефтяного резерва  Экономика   \n",
       "2  Празднование победы на ЧМ во Франции закончило...        Мир   \n",
       "3  Песков рассказал о планах на президентские лим...     Россия   \n",
       "4  Грудь Бритни Спирс вновь выскочила из лифчика ...   Культура   \n",
       "\n",
       "                                             url  \n",
       "0         https://lenta.ru/news/2018/07/16/su57/  \n",
       "1         https://lenta.ru/news/2018/07/16/foes/  \n",
       "2  https://lenta.ru/news/2018/07/15/fra_bezumie/  \n",
       "3   https://lenta.ru/news/2018/07/16/delo_shyut/  \n",
       "4     https://lenta.ru/news/2018/07/16/pedomusk/  "
      ]
     },
     "execution_count": 4,
     "metadata": {},
     "output_type": "execute_result"
    }
   ],
   "source": [
    "data = pd.read_csv('news_lenta.csv.gz')\n",
    "print(data.shape)\n",
    "data.head()"
   ]
  },
  {
   "cell_type": "code",
   "execution_count": 5,
   "metadata": {},
   "outputs": [
    {
     "name": "stdout",
     "output_type": "stream",
     "text": [
      "(699746, 5)\n"
     ]
    },
    {
     "data": {
      "text/html": [
       "<div>\n",
       "<style scoped>\n",
       "    .dataframe tbody tr th:only-of-type {\n",
       "        vertical-align: middle;\n",
       "    }\n",
       "\n",
       "    .dataframe tbody tr th {\n",
       "        vertical-align: top;\n",
       "    }\n",
       "\n",
       "    .dataframe thead th {\n",
       "        text-align: right;\n",
       "    }\n",
       "</style>\n",
       "<table border=\"1\" class=\"dataframe\">\n",
       "  <thead>\n",
       "    <tr style=\"text-align: right;\">\n",
       "      <th></th>\n",
       "      <th>tags</th>\n",
       "      <th>text</th>\n",
       "      <th>title</th>\n",
       "      <th>topic</th>\n",
       "      <th>url</th>\n",
       "    </tr>\n",
       "  </thead>\n",
       "  <tbody>\n",
       "    <tr>\n",
       "      <th>0</th>\n",
       "      <td>Общество</td>\n",
       "      <td>Миллиардер Илон Маск в резкой форме ответил бр...</td>\n",
       "      <td>Илон Маск назвал педофилом спасавшего детей из...</td>\n",
       "      <td>Мир</td>\n",
       "      <td>https://lenta.ru/news/2018/07/16/su57/</td>\n",
       "    </tr>\n",
       "    <tr>\n",
       "      <th>1</th>\n",
       "      <td>Рынки</td>\n",
       "      <td>США и их западные союзники рассматривают возмо...</td>\n",
       "      <td>США задумались о распечатывании нефтяного резерва</td>\n",
       "      <td>Экономика</td>\n",
       "      <td>https://lenta.ru/news/2018/07/16/foes/</td>\n",
       "    </tr>\n",
       "    <tr>\n",
       "      <th>2</th>\n",
       "      <td>Преступность</td>\n",
       "      <td>Празднование победы сборной Франции на чемпион...</td>\n",
       "      <td>Празднование победы на ЧМ во Франции закончило...</td>\n",
       "      <td>Мир</td>\n",
       "      <td>https://lenta.ru/news/2018/07/15/fra_bezumie/</td>\n",
       "    </tr>\n",
       "    <tr>\n",
       "      <th>3</th>\n",
       "      <td>Политика</td>\n",
       "      <td>География использования лимузинов проекта «Кор...</td>\n",
       "      <td>Песков рассказал о планах на президентские лим...</td>\n",
       "      <td>Россия</td>\n",
       "      <td>https://lenta.ru/news/2018/07/16/delo_shyut/</td>\n",
       "    </tr>\n",
       "    <tr>\n",
       "      <th>4</th>\n",
       "      <td>Музыка</td>\n",
       "      <td>Американская поп-певица Бритни Спирс случайно ...</td>\n",
       "      <td>Грудь Бритни Спирс вновь выскочила из лифчика ...</td>\n",
       "      <td>Культура</td>\n",
       "      <td>https://lenta.ru/news/2018/07/16/pedomusk/</td>\n",
       "    </tr>\n",
       "  </tbody>\n",
       "</table>\n",
       "</div>"
      ],
      "text/plain": [
       "           tags                                               text  \\\n",
       "0      Общество  Миллиардер Илон Маск в резкой форме ответил бр...   \n",
       "1         Рынки  США и их западные союзники рассматривают возмо...   \n",
       "2  Преступность  Празднование победы сборной Франции на чемпион...   \n",
       "3      Политика  География использования лимузинов проекта «Кор...   \n",
       "4        Музыка  Американская поп-певица Бритни Спирс случайно ...   \n",
       "\n",
       "                                               title      topic  \\\n",
       "0  Илон Маск назвал педофилом спасавшего детей из...        Мир   \n",
       "1  США задумались о распечатывании нефтяного резерва  Экономика   \n",
       "2  Празднование победы на ЧМ во Франции закончило...        Мир   \n",
       "3  Песков рассказал о планах на президентские лим...     Россия   \n",
       "4  Грудь Бритни Спирс вновь выскочила из лифчика ...   Культура   \n",
       "\n",
       "                                             url  \n",
       "0         https://lenta.ru/news/2018/07/16/su57/  \n",
       "1         https://lenta.ru/news/2018/07/16/foes/  \n",
       "2  https://lenta.ru/news/2018/07/15/fra_bezumie/  \n",
       "3   https://lenta.ru/news/2018/07/16/delo_shyut/  \n",
       "4     https://lenta.ru/news/2018/07/16/pedomusk/  "
      ]
     },
     "execution_count": 5,
     "metadata": {},
     "output_type": "execute_result"
    }
   ],
   "source": [
    "data = pd.read_csv('news_lenta.csv.gz')\n",
    "print(data.shape)\n",
    "data.head()"
   ]
  },
  {
   "cell_type": "code",
   "execution_count": null,
   "metadata": {},
   "outputs": [],
   "source": []
  },
  {
   "cell_type": "code",
   "execution_count": 3,
   "metadata": {},
   "outputs": [
    {
     "name": "stdout",
     "output_type": "stream",
     "text": [
      "(700006, 2)\n"
     ]
    },
    {
     "data": {
      "text/html": [
       "<div>\n",
       "<style scoped>\n",
       "    .dataframe tbody tr th:only-of-type {\n",
       "        vertical-align: middle;\n",
       "    }\n",
       "\n",
       "    .dataframe tbody tr th {\n",
       "        vertical-align: top;\n",
       "    }\n",
       "\n",
       "    .dataframe thead th {\n",
       "        text-align: right;\n",
       "    }\n",
       "</style>\n",
       "<table border=\"1\" class=\"dataframe\">\n",
       "  <thead>\n",
       "    <tr style=\"text-align: right;\">\n",
       "      <th></th>\n",
       "      <th>topics</th>\n",
       "      <th>text</th>\n",
       "    </tr>\n",
       "  </thead>\n",
       "  <tbody>\n",
       "    <tr>\n",
       "      <th>0</th>\n",
       "      <td>Библиотека / Первая мировая</td>\n",
       "      <td>Бои у Сопоцкина и Друскеник закончились отступ...</td>\n",
       "    </tr>\n",
       "    <tr>\n",
       "      <th>1</th>\n",
       "      <td>Библиотека / Первая мировая</td>\n",
       "      <td>Министерство народного просвещения, в виду про...</td>\n",
       "    </tr>\n",
       "    <tr>\n",
       "      <th>2</th>\n",
       "      <td>Библиотека / Первая мировая</td>\n",
       "      <td>Фотограф-корреспондент Daily Mirror рассказыва...</td>\n",
       "    </tr>\n",
       "    <tr>\n",
       "      <th>3</th>\n",
       "      <td>Библиотека / Первая мировая</td>\n",
       "      <td>Штабс-капитан П. Н. Нестеров на днях, увидев в...</td>\n",
       "    </tr>\n",
       "    <tr>\n",
       "      <th>4</th>\n",
       "      <td>Библиотека / Первая мировая</td>\n",
       "      <td>Лица, приехавшие в Варшаву из Люблина, передаю...</td>\n",
       "    </tr>\n",
       "  </tbody>\n",
       "</table>\n",
       "</div>"
      ],
      "text/plain": [
       "                        topics  \\\n",
       "0  Библиотека / Первая мировая   \n",
       "1  Библиотека / Первая мировая   \n",
       "2  Библиотека / Первая мировая   \n",
       "3  Библиотека / Первая мировая   \n",
       "4  Библиотека / Первая мировая   \n",
       "\n",
       "                                                text  \n",
       "0  Бои у Сопоцкина и Друскеник закончились отступ...  \n",
       "1  Министерство народного просвещения, в виду про...  \n",
       "2  Фотограф-корреспондент Daily Mirror рассказыва...  \n",
       "3  Штабс-капитан П. Н. Нестеров на днях, увидев в...  \n",
       "4  Лица, приехавшие в Варшаву из Люблина, передаю...  "
      ]
     },
     "execution_count": 3,
     "metadata": {},
     "output_type": "execute_result"
    }
   ],
   "source": [
    "df = pd.read_csv('lenta.tar.bz2',usecols = ['topics','text'])\n",
    "print(df.shape)\n",
    "df.head()"
   ]
  },
  {
   "cell_type": "code",
   "execution_count": 4,
   "metadata": {},
   "outputs": [
    {
     "data": {
      "text/plain": [
       "topics    0\n",
       "text      0\n",
       "dtype: int64"
      ]
     },
     "execution_count": 4,
     "metadata": {},
     "output_type": "execute_result"
    }
   ],
   "source": [
    "df.dropna(inplace=True)\n",
    "df.isnull().sum()"
   ]
  },
  {
   "cell_type": "code",
   "execution_count": 5,
   "metadata": {},
   "outputs": [
    {
     "data": {
      "text/plain": [
       "125"
      ]
     },
     "execution_count": 5,
     "metadata": {},
     "output_type": "execute_result"
    }
   ],
   "source": [
    "df.topics.unique().shape[0]"
   ]
  },
  {
   "cell_type": "code",
   "execution_count": 6,
   "metadata": {},
   "outputs": [
    {
     "data": {
      "text/plain": [
       "Россия       116891\n",
       "Мир           95099\n",
       "Экономика     58247\n",
       "Спорт         42323\n",
       "Культура      34609\n",
       "Name: topics, dtype: int64"
      ]
     },
     "execution_count": 6,
     "metadata": {},
     "output_type": "execute_result"
    }
   ],
   "source": [
    "df.topics.value_counts().head()"
   ]
  },
  {
   "cell_type": "code",
   "execution_count": 7,
   "metadata": {},
   "outputs": [
    {
     "data": {
      "text/plain": [
       "Index(['Россия', 'Мир', 'Экономика', 'Спорт', 'Культура'], dtype='object')"
      ]
     },
     "execution_count": 7,
     "metadata": {},
     "output_type": "execute_result"
    }
   ],
   "source": [
    "take1st5topics = df.topics.value_counts().head(5).index\n",
    "take1st5topics"
   ]
  },
  {
   "cell_type": "code",
   "execution_count": 8,
   "metadata": {},
   "outputs": [
    {
     "data": {
      "text/plain": [
       "(347169, 2)"
      ]
     },
     "execution_count": 8,
     "metadata": {},
     "output_type": "execute_result"
    }
   ],
   "source": [
    "df = df[df.topics.isin(take1st5topics)]\n",
    "df.shape"
   ]
  },
  {
   "cell_type": "markdown",
   "metadata": {},
   "source": [
    "---"
   ]
  },
  {
   "cell_type": "code",
   "execution_count": 9,
   "metadata": {},
   "outputs": [],
   "source": [
    "from sklearn.preprocessing import LabelEncoder\n",
    "le = LabelEncoder()"
   ]
  },
  {
   "cell_type": "code",
   "execution_count": 10,
   "metadata": {},
   "outputs": [
    {
     "data": {
      "text/plain": [
       "['Культура', 'Мир', 'Россия', 'Спорт', 'Экономика']"
      ]
     },
     "execution_count": 10,
     "metadata": {},
     "output_type": "execute_result"
    }
   ],
   "source": [
    "le.fit(df.topics)\n",
    "list(le.classes_)"
   ]
  },
  {
   "cell_type": "code",
   "execution_count": 11,
   "metadata": {},
   "outputs": [
    {
     "data": {
      "text/plain": [
       "array([2, 2, 2, ..., 4, 3, 3])"
      ]
     },
     "execution_count": 11,
     "metadata": {},
     "output_type": "execute_result"
    }
   ],
   "source": [
    "le.transform(df.topics) "
   ]
  },
  {
   "cell_type": "code",
   "execution_count": 12,
   "metadata": {},
   "outputs": [
    {
     "data": {
      "text/plain": [
       "2"
      ]
     },
     "execution_count": 12,
     "metadata": {},
     "output_type": "execute_result"
    }
   ],
   "source": [
    "le.transform(['Россия'])[0]"
   ]
  },
  {
   "cell_type": "code",
   "execution_count": 13,
   "metadata": {},
   "outputs": [
    {
     "data": {
      "text/html": [
       "<div>\n",
       "<style scoped>\n",
       "    .dataframe tbody tr th:only-of-type {\n",
       "        vertical-align: middle;\n",
       "    }\n",
       "\n",
       "    .dataframe tbody tr th {\n",
       "        vertical-align: top;\n",
       "    }\n",
       "\n",
       "    .dataframe thead th {\n",
       "        text-align: right;\n",
       "    }\n",
       "</style>\n",
       "<table border=\"1\" class=\"dataframe\">\n",
       "  <thead>\n",
       "    <tr style=\"text-align: right;\">\n",
       "      <th></th>\n",
       "      <th>text</th>\n",
       "      <th>target</th>\n",
       "    </tr>\n",
       "  </thead>\n",
       "  <tbody>\n",
       "    <tr>\n",
       "      <th>12507</th>\n",
       "      <td>Актриса Дэрил Ханна (\"Бегущий по лезвию бритвы...</td>\n",
       "      <td>0</td>\n",
       "    </tr>\n",
       "    <tr>\n",
       "      <th>146133</th>\n",
       "      <td>В пятницу в порту Анадыря опрокинулась самоход...</td>\n",
       "      <td>1</td>\n",
       "    </tr>\n",
       "    <tr>\n",
       "      <th>189293</th>\n",
       "      <td>В городе Акко на севере Израиля 10 октября про...</td>\n",
       "      <td>1</td>\n",
       "    </tr>\n",
       "    <tr>\n",
       "      <th>218045</th>\n",
       "      <td>Группировка \"Радикальный народный коммунистиче...</td>\n",
       "      <td>3</td>\n",
       "    </tr>\n",
       "    <tr>\n",
       "      <th>102264</th>\n",
       "      <td>Сотрудники МВД на прошлой неделе взяли под сво...</td>\n",
       "      <td>2</td>\n",
       "    </tr>\n",
       "  </tbody>\n",
       "</table>\n",
       "</div>"
      ],
      "text/plain": [
       "                                                     text  target\n",
       "12507   Актриса Дэрил Ханна (\"Бегущий по лезвию бритвы...       0\n",
       "146133  В пятницу в порту Анадыря опрокинулась самоход...       1\n",
       "189293  В городе Акко на севере Израиля 10 октября про...       1\n",
       "218045  Группировка \"Радикальный народный коммунистиче...       3\n",
       "102264  Сотрудники МВД на прошлой неделе взяли под сво...       2"
      ]
     },
     "execution_count": 13,
     "metadata": {},
     "output_type": "execute_result"
    }
   ],
   "source": [
    "df['target'] = le.transform(df.topics)\n",
    "df.drop(['topics'],axis=1,inplace=True)\n",
    "df.reset_index(inplace=True,drop=True)\n",
    "\n",
    "df.sample(5)"
   ]
  },
  {
   "cell_type": "markdown",
   "metadata": {},
   "source": [
    "---"
   ]
  },
  {
   "cell_type": "code",
   "execution_count": 14,
   "metadata": {},
   "outputs": [],
   "source": [
    "from sklearn.model_selection import train_test_split"
   ]
  },
  {
   "cell_type": "code",
   "execution_count": 15,
   "metadata": {},
   "outputs": [
    {
     "data": {
      "text/plain": [
       "((277735, 1), (69434, 1), (277735,), (69434,))"
      ]
     },
     "execution_count": 15,
     "metadata": {},
     "output_type": "execute_result"
    }
   ],
   "source": [
    "X_train, X_test, y_train, y_test = train_test_split(df.drop(['target'],axis=1),df.target,\n",
    "                                                    test_size=0.2,\n",
    "                                                    stratify=df.target,\n",
    "                                                    random_state=42)\n",
    "\n",
    "X_train.shape, X_test.shape, y_train.shape, y_test.shape"
   ]
  },
  {
   "cell_type": "code",
   "execution_count": 16,
   "metadata": {},
   "outputs": [
    {
     "data": {
      "text/plain": [
       "text    0\n",
       "dtype: int64"
      ]
     },
     "execution_count": 16,
     "metadata": {},
     "output_type": "execute_result"
    }
   ],
   "source": [
    "X_test.isna().sum()"
   ]
  },
  {
   "cell_type": "code",
   "execution_count": null,
   "metadata": {},
   "outputs": [],
   "source": []
  },
  {
   "cell_type": "markdown",
   "metadata": {},
   "source": [
    "____"
   ]
  },
  {
   "cell_type": "code",
   "execution_count": 17,
   "metadata": {},
   "outputs": [],
   "source": [
    "from sklearn.pipeline import Pipeline\n",
    "from sklearn.feature_extraction.text import CountVectorizer, TfidfVectorizer\n",
    "from sklearn.linear_model import LogisticRegression \n",
    "\n",
    "import itertools\n",
    "from itertools import islice"
   ]
  },
  {
   "cell_type": "markdown",
   "metadata": {},
   "source": [
    "### построим простую модельку без препроцессинга"
   ]
  },
  {
   "cell_type": "code",
   "execution_count": 18,
   "metadata": {},
   "outputs": [],
   "source": [
    "from sklearn.metrics import accuracy_score, classification_report, confusion_matrix"
   ]
  },
  {
   "cell_type": "markdown",
   "metadata": {},
   "source": [
    "* without `min_df`"
   ]
  },
  {
   "cell_type": "code",
   "execution_count": 19,
   "metadata": {},
   "outputs": [
    {
     "name": "stdout",
     "output_type": "stream",
     "text": [
      "CPU times: user 43.1 s, sys: 819 ms, total: 43.9 s\n",
      "Wall time: 43.9 s\n"
     ]
    }
   ],
   "source": [
    "%%time\n",
    "cv_notPrep_notMindf = CountVectorizer()\n",
    "cv_notPrep_notMindf_train = cv_notPrep_notMindf.fit_transform(X_train.text)\n",
    "cv_notPrep_notMindf_test = cv_notPrep_notMindf.transform(X_test.text)"
   ]
  },
  {
   "cell_type": "code",
   "execution_count": 20,
   "metadata": {},
   "outputs": [],
   "source": [
    "dict_bwnotPrep_notMindf = cv_notPrep_notMindf.vocabulary_"
   ]
  },
  {
   "cell_type": "code",
   "execution_count": 21,
   "metadata": {},
   "outputs": [
    {
     "data": {
      "text/plain": [
       "629073"
      ]
     },
     "execution_count": 21,
     "metadata": {},
     "output_type": "execute_result"
    }
   ],
   "source": [
    "len(dict_bwnotPrep_notMindf)"
   ]
  },
  {
   "cell_type": "code",
   "execution_count": 64,
   "metadata": {},
   "outputs": [],
   "source": [
    "#for key, value in sorted(dict_bwnotPrep_notMindf.items(), key=lambda item: item[1]):\n",
    " #   print(f'{key}: {value}')"
   ]
  },
  {
   "cell_type": "code",
   "execution_count": 22,
   "metadata": {},
   "outputs": [
    {
     "data": {
      "text/plain": [
       "629073"
      ]
     },
     "execution_count": 22,
     "metadata": {},
     "output_type": "execute_result"
    }
   ],
   "source": [
    "dict_bwnotPrep_notMindf_sorted = sorted(dict_bwnotPrep_notMindf.items(), key=lambda item: item[1])\n",
    "len(dict_bwnotPrep_notMindf_sorted)"
   ]
  },
  {
   "cell_type": "code",
   "execution_count": 23,
   "metadata": {},
   "outputs": [
    {
     "data": {
      "text/plain": [
       "[('00', 0),\n",
       " ('000', 1),\n",
       " ('0000', 2),\n",
       " ('00000000', 3),\n",
       " ('00000000301', 4),\n",
       " ('0000000498308148918584', 5),\n",
       " ('0000001', 6),\n",
       " ('0000004', 7),\n",
       " ('0000005', 8),\n",
       " ('0000007', 9)]"
      ]
     },
     "execution_count": 23,
     "metadata": {},
     "output_type": "execute_result"
    }
   ],
   "source": [
    "dict_bwnotPrep_notMindf_sorted[:10]"
   ]
  },
  {
   "cell_type": "code",
   "execution_count": 24,
   "metadata": {},
   "outputs": [
    {
     "data": {
      "text/plain": [
       "[('ј60m', 629063),\n",
       " ('ј65m', 629064),\n",
       " ('ј8', 629065),\n",
       " ('ј8m', 629066),\n",
       " ('ј9m', 629067),\n",
       " ('љубав', 629068),\n",
       " ('ジェーニャマトリョーシカ', 629069),\n",
       " ('市内のお土産屋さんがわざわざ出してくれました', 629070),\n",
       " ('微妙', 629071),\n",
       " ('番外編', 629072)]"
      ]
     },
     "execution_count": 24,
     "metadata": {},
     "output_type": "execute_result"
    }
   ],
   "source": [
    "dict_bwnotPrep_notMindf_sorted[-10:]"
   ]
  },
  {
   "cell_type": "code",
   "execution_count": 25,
   "metadata": {},
   "outputs": [
    {
     "name": "stdout",
     "output_type": "stream",
     "text": [
      "accuracy = 0.9114410807385431\n",
      "\n",
      "classification_report:\n",
      "              precision    recall  f1-score   support\n",
      "\n",
      "           0       0.94      0.94      0.94      6922\n",
      "           1       0.88      0.88      0.88     19020\n",
      "           2       0.89      0.90      0.89     23378\n",
      "           3       0.98      0.98      0.98      8465\n",
      "           4       0.93      0.93      0.93     11649\n",
      "\n",
      "   micro avg       0.91      0.91      0.91     69434\n",
      "   macro avg       0.93      0.92      0.93     69434\n",
      "weighted avg       0.91      0.91      0.91     69434\n",
      "\n",
      "\n",
      "confusion_matrix:\n",
      "[[ 6488   209   187    11    27]\n",
      " [  195 16776  1753    48   248]\n",
      " [  168  1760 20928    56   466]\n",
      " [   14    55    88  8290    18]\n",
      " [   24   278   519    25 10803]]\n",
      "CPU times: user 14min 6s, sys: 215 ms, total: 14min 6s\n",
      "Wall time: 14min 6s\n"
     ]
    }
   ],
   "source": [
    "%%time\n",
    "lr = LogisticRegression()\n",
    "lr.fit(cv_notPrep_notMindf_train,y_train)\n",
    "\n",
    "pred_lr = lr.predict(cv_notPrep_notMindf_test)\n",
    "print('accuracy =',accuracy_score(y_test,pred_lr))\n",
    "print('\\nclassification_report:')\n",
    "print(classification_report(y_test,pred_lr))\n",
    "print('\\nconfusion_matrix:')\n",
    "print(confusion_matrix(y_test,pred_lr))"
   ]
  },
  {
   "cell_type": "markdown",
   "metadata": {},
   "source": [
    "___"
   ]
  },
  {
   "cell_type": "markdown",
   "metadata": {},
   "source": [
    "* with `min_df`"
   ]
  },
  {
   "cell_type": "code",
   "execution_count": null,
   "metadata": {},
   "outputs": [],
   "source": [
    "%%time\n",
    "cv_notPrep_withMindf = CountVectorizer(min_df=0.1)\n",
    "cv_notPrep_withMindf_train = cv_notPrep_withMindf.fit_transform(X_train.text)\n",
    "cv_notPrep_withMindf_test = cv_notPrep_withMindf.transform(X_test.text)"
   ]
  },
  {
   "cell_type": "code",
   "execution_count": null,
   "metadata": {},
   "outputs": [],
   "source": [
    "dict_bw_notPrep_withMindf = cv_notPrep_withMindf.vocabulary_"
   ]
  },
  {
   "cell_type": "code",
   "execution_count": null,
   "metadata": {},
   "outputs": [],
   "source": [
    "len(dict_bw_notPrep_withMindf)"
   ]
  },
  {
   "cell_type": "code",
   "execution_count": null,
   "metadata": {},
   "outputs": [],
   "source": [
    "dict_bw_notPrep_withMindf_sorted = sorted(dict_bw_notPrep_withMindf.items(), key=lambda item: item[1])\n",
    "len(dict_bw_notPrep_withMindf_sorted)"
   ]
  },
  {
   "cell_type": "code",
   "execution_count": null,
   "metadata": {},
   "outputs": [],
   "source": [
    "dict_bw_notPrep_withMindf_sorted[:10]"
   ]
  },
  {
   "cell_type": "code",
   "execution_count": null,
   "metadata": {},
   "outputs": [],
   "source": [
    "dict_bw_notPrep_withMindf_sorted[-10:]"
   ]
  },
  {
   "cell_type": "code",
   "execution_count": 75,
   "metadata": {},
   "outputs": [
    {
     "name": "stdout",
     "output_type": "stream",
     "text": [
      "accuracy = 0.7625999111900533\n",
      "\n",
      "classification_report:\n",
      "              precision    recall  f1-score   support\n",
      "\n",
      "           0       0.74      0.80      0.77     19020\n",
      "           1       0.77      0.78      0.77     23378\n",
      "           2       0.79      0.68      0.73     11650\n",
      "\n",
      "   micro avg       0.76      0.76      0.76     54048\n",
      "   macro avg       0.77      0.75      0.76     54048\n",
      "weighted avg       0.76      0.76      0.76     54048\n",
      "\n",
      "\n",
      "confusion_matrix:\n",
      "[[15175  3146   699]\n",
      " [ 3913 18120  1345]\n",
      " [ 1448  2280  7922]]\n",
      "CPU times: user 25 s, sys: 7.78 ms, total: 25 s\n",
      "Wall time: 25 s\n"
     ]
    }
   ],
   "source": [
    "%%time\n",
    "lr = LogisticRegression()\n",
    "lr.fit(cv_notPrep_withMindf_train,y_train)\n",
    "\n",
    "pred_lr = lr.predict(cv_notPrep_withMindf_test)\n",
    "print('accuracy =',accuracy_score(y_test,pred_lr))\n",
    "print('\\nclassification_report:')\n",
    "print(classification_report(y_test,pred_lr))\n",
    "print('\\nconfusion_matrix:')\n",
    "print(confusion_matrix(y_test,pred_lr))"
   ]
  },
  {
   "cell_type": "code",
   "execution_count": null,
   "metadata": {},
   "outputs": [],
   "source": [
    "#pipe = Pipeline([('vec', CountVectorizer(min_df=0.1)),\n",
    "#                 ('clf', LogisticRegression())\n",
    "#                 ]\n",
    "#               )\n",
    "#                  \n",
    "#pipe.fit(X_train,y_train)\n",
    "#\n",
    "#pred_lr = pipe.predict(X_test)\n",
    "#print('accuracy =',accuracy_score(y_test,pred_lr))\n",
    "#print('\\nclassification_report:')\n",
    "#print(classification_report(y_test,pred_lr))\n",
    "#print('\\nconfusion_matrix:')\n",
    "#print(confusion_matrix(y_test,pred_lr))"
   ]
  },
  {
   "cell_type": "code",
   "execution_count": null,
   "metadata": {},
   "outputs": [],
   "source": []
  },
  {
   "cell_type": "markdown",
   "metadata": {},
   "source": [
    "### построим простую модельку с препроцессингом"
   ]
  },
  {
   "cell_type": "code",
   "execution_count": 33,
   "metadata": {},
   "outputs": [],
   "source": [
    "import re\n",
    "from nltk.corpus import stopwords\n",
    "#from nltk.tokenize import word_tokenize\n",
    "\n",
    "from razdel import tokenize # https://github.com/natasha/razdel\n",
    "#!pip install razdel\n",
    "\n",
    "import pymorphy2  # pip install pymorphy2"
   ]
  },
  {
   "cell_type": "code",
   "execution_count": 34,
   "metadata": {},
   "outputs": [],
   "source": [
    "morph = pymorphy2.MorphAnalyzer()"
   ]
  },
  {
   "cell_type": "code",
   "execution_count": 35,
   "metadata": {},
   "outputs": [
    {
     "data": {
      "text/plain": [
       "775"
      ]
     },
     "execution_count": 35,
     "metadata": {},
     "output_type": "execute_result"
    }
   ],
   "source": [
    "stopword_ru = stopwords.words('russian')\n",
    "len(stopword_ru)\n",
    "\n",
    "with open('../stopwords.txt', 'r', encoding='utf-8') as f:\n",
    "    for w in f.readlines():\n",
    "        stopword_ru.append(w)\n",
    "        \n",
    "len(stopword_ru)"
   ]
  },
  {
   "cell_type": "code",
   "execution_count": null,
   "metadata": {},
   "outputs": [],
   "source": []
  },
  {
   "cell_type": "markdown",
   "metadata": {},
   "source": [
    "* clean_text"
   ]
  },
  {
   "cell_type": "code",
   "execution_count": 36,
   "metadata": {},
   "outputs": [],
   "source": [
    "def clean_text(text):\n",
    "    '''\n",
    "    очистка текста\n",
    "    \n",
    "    на выходе очищеный текст\n",
    "    \n",
    "    '''\n",
    "   \n",
    "    if not isinstance(text, str):\n",
    "        text = str(text)\n",
    "    \n",
    "    text = text.lower()\n",
    "    text = text.strip('\\n').strip('\\r').strip('\\t')\n",
    "\n",
    "    text = re.sub(\"-\\s\\r\\n\\|-\\s\\r\\n|\\r\\n\", '', str(text))\n",
    "\n",
    "    text = re.sub(\"[0-9]|[-—.,:;_%©«»?*!@#№$^•·&()]|[+=]|[[]|[]]|[/]|\", '', text)\n",
    "    text = re.sub(r\"\\r\\n\\t|\\n|\\\\s|\\r\\t|\\\\n\", ' ', text)\n",
    "    text = re.sub(r'[\\xad]|[\\s+]', ' ', text.strip())\n",
    "\n",
    "    return text"
   ]
  },
  {
   "cell_type": "code",
   "execution_count": 38,
   "metadata": {},
   "outputs": [
    {
     "data": {
      "text/html": [
       "<div>\n",
       "<style scoped>\n",
       "    .dataframe tbody tr th:only-of-type {\n",
       "        vertical-align: middle;\n",
       "    }\n",
       "\n",
       "    .dataframe tbody tr th {\n",
       "        vertical-align: top;\n",
       "    }\n",
       "\n",
       "    .dataframe thead th {\n",
       "        text-align: right;\n",
       "    }\n",
       "</style>\n",
       "<table border=\"1\" class=\"dataframe\">\n",
       "  <thead>\n",
       "    <tr style=\"text-align: right;\">\n",
       "      <th></th>\n",
       "      <th>text</th>\n",
       "      <th>target</th>\n",
       "    </tr>\n",
       "  </thead>\n",
       "  <tbody>\n",
       "    <tr>\n",
       "      <th>0</th>\n",
       "      <td>В минувший четверг президент РФ Борис Ельцин п...</td>\n",
       "      <td>1</td>\n",
       "    </tr>\n",
       "    <tr>\n",
       "      <th>1</th>\n",
       "      <td>ИТАР-ТАСС со ссылкой на пресс-службу Миноборон...</td>\n",
       "      <td>1</td>\n",
       "    </tr>\n",
       "  </tbody>\n",
       "</table>\n",
       "</div>"
      ],
      "text/plain": [
       "                                                text  target\n",
       "0  В минувший четверг президент РФ Борис Ельцин п...       1\n",
       "1  ИТАР-ТАСС со ссылкой на пресс-службу Миноборон...       1"
      ]
     },
     "execution_count": 38,
     "metadata": {},
     "output_type": "execute_result"
    }
   ],
   "source": [
    "df.head(2)"
   ]
  },
  {
   "cell_type": "code",
   "execution_count": 37,
   "metadata": {},
   "outputs": [
    {
     "name": "stdout",
     "output_type": "stream",
     "text": [
      "CPU times: user 1min 36s, sys: 184 ms, total: 1min 36s\n",
      "Wall time: 1min 36s\n"
     ]
    }
   ],
   "source": [
    "%%time\n",
    "X_train['clean_text'] = X_train.text.apply(clean_text)\n",
    "X_test['clean_text'] = X_test.text.apply(clean_text)"
   ]
  },
  {
   "cell_type": "markdown",
   "metadata": {},
   "source": [
    "* lemmatization"
   ]
  },
  {
   "cell_type": "code",
   "execution_count": 38,
   "metadata": {},
   "outputs": [],
   "source": [
    "cache = {}\n",
    "\n",
    "def lemmatization(text):\n",
    "    '''\n",
    "    лемматизация\n",
    "        [0] если зашел тип не `str` делаем его `str`\n",
    "        [1] токенизация предложения через razdel\n",
    "        [2] проверка есть ли в начале слова '-'\n",
    "        [3] проверка на стоп-слова\n",
    "        [4] проверка токена с одного символа\n",
    "        [5] проверка есть ли данное слово в кэше\n",
    "        [6] лемматизация слова\n",
    "\n",
    "    на выходе лист отлемматизированых токенов\n",
    "    '''\n",
    "\n",
    "    # [0]\n",
    "    if not isinstance(text, str):\n",
    "        text = str(text)\n",
    "    \n",
    "    # [1]\n",
    "    tokens = list(tokenize(text))\n",
    "    words = [_.text for _ in tokens]\n",
    "\n",
    "    \n",
    "    words_lem = []\n",
    "    for w in words:\n",
    "        if w[0] == '-': # [2]\n",
    "            w = w[1:]\n",
    "        if not w in stopword_ru: # [3]\n",
    "            if len(w)>1: # [4]\n",
    "                if w in cache: # [5]\n",
    "                    words_lem.append(cache[w])\n",
    "                else: # [6]\n",
    "                    temp_cach = cache[w] = morph.parse(w)[0].normal_form\n",
    "                    words_lem.append(temp_cach)\n",
    "    return words_lem"
   ]
  },
  {
   "cell_type": "code",
   "execution_count": 39,
   "metadata": {},
   "outputs": [
    {
     "name": "stdout",
     "output_type": "stream",
     "text": [
      "CPU times: user 11min 58s, sys: 508 ms, total: 11min 58s\n",
      "Wall time: 11min 58s\n"
     ]
    }
   ],
   "source": [
    "%%time\n",
    "X_train['lemma_clean_text'] = X_train.clean_text.apply(lemmatization)\n",
    "X_test['lemma_clean_text'] = X_test.clean_text.apply(lemmatization)"
   ]
  },
  {
   "cell_type": "code",
   "execution_count": 89,
   "metadata": {},
   "outputs": [
    {
     "data": {
      "text/html": [
       "<div>\n",
       "<style scoped>\n",
       "    .dataframe tbody tr th:only-of-type {\n",
       "        vertical-align: middle;\n",
       "    }\n",
       "\n",
       "    .dataframe tbody tr th {\n",
       "        vertical-align: top;\n",
       "    }\n",
       "\n",
       "    .dataframe thead th {\n",
       "        text-align: right;\n",
       "    }\n",
       "</style>\n",
       "<table border=\"1\" class=\"dataframe\">\n",
       "  <thead>\n",
       "    <tr style=\"text-align: right;\">\n",
       "      <th></th>\n",
       "      <th>text</th>\n",
       "      <th>clean_text</th>\n",
       "      <th>lemma_clean_text</th>\n",
       "      <th>join_lemma_clean_text</th>\n",
       "    </tr>\n",
       "  </thead>\n",
       "  <tbody>\n",
       "    <tr>\n",
       "      <th>152792</th>\n",
       "      <td>В начале апреля завершилась процедура предъявл...</td>\n",
       "      <td>в начале апреля завершилась процедура предъявл...</td>\n",
       "      <td>[начало, апрель, завершиться, процедура, предъ...</td>\n",
       "      <td>начало апрель завершиться процедура предъявлен...</td>\n",
       "    </tr>\n",
       "    <tr>\n",
       "      <th>183485</th>\n",
       "      <td>Уполномоченная правительства ФРГ по архивам \"Ш...</td>\n",
       "      <td>уполномоченная правительства фрг по архивам \"ш...</td>\n",
       "      <td>[уполномоченный, правительство, фрг, архив, шт...</td>\n",
       "      <td>уполномоченный правительство фрг архив штази м...</td>\n",
       "    </tr>\n",
       "  </tbody>\n",
       "</table>\n",
       "</div>"
      ],
      "text/plain": [
       "                                                     text  \\\n",
       "152792  В начале апреля завершилась процедура предъявл...   \n",
       "183485  Уполномоченная правительства ФРГ по архивам \"Ш...   \n",
       "\n",
       "                                               clean_text  \\\n",
       "152792  в начале апреля завершилась процедура предъявл...   \n",
       "183485  уполномоченная правительства фрг по архивам \"ш...   \n",
       "\n",
       "                                         lemma_clean_text  \\\n",
       "152792  [начало, апрель, завершиться, процедура, предъ...   \n",
       "183485  [уполномоченный, правительство, фрг, архив, шт...   \n",
       "\n",
       "                                    join_lemma_clean_text  \n",
       "152792  начало апрель завершиться процедура предъявлен...  \n",
       "183485  уполномоченный правительство фрг архив штази м...  "
      ]
     },
     "execution_count": 89,
     "metadata": {},
     "output_type": "execute_result"
    }
   ],
   "source": [
    "X_train['join_lemma_clean_text'] = X_train.lemma_clean_text.apply(lambda x: ' '.join(x))\n",
    "X_train.head(2)"
   ]
  },
  {
   "cell_type": "code",
   "execution_count": 90,
   "metadata": {},
   "outputs": [
    {
     "data": {
      "text/html": [
       "<div>\n",
       "<style scoped>\n",
       "    .dataframe tbody tr th:only-of-type {\n",
       "        vertical-align: middle;\n",
       "    }\n",
       "\n",
       "    .dataframe tbody tr th {\n",
       "        vertical-align: top;\n",
       "    }\n",
       "\n",
       "    .dataframe thead th {\n",
       "        text-align: right;\n",
       "    }\n",
       "</style>\n",
       "<table border=\"1\" class=\"dataframe\">\n",
       "  <thead>\n",
       "    <tr style=\"text-align: right;\">\n",
       "      <th></th>\n",
       "      <th>text</th>\n",
       "      <th>clean_text</th>\n",
       "      <th>lemma_clean_text</th>\n",
       "      <th>join_lemma_clean_text</th>\n",
       "    </tr>\n",
       "  </thead>\n",
       "  <tbody>\n",
       "    <tr>\n",
       "      <th>183168</th>\n",
       "      <td>На предстоящих 11 октября выборах в Мосгордуму...</td>\n",
       "      <td>на предстоящих  октября выборах в мосгордуму в...</td>\n",
       "      <td>[предстоящий, октябрь, выборы, мосгордума, все...</td>\n",
       "      <td>предстоящий октябрь выборы мосгордума всеросси...</td>\n",
       "    </tr>\n",
       "    <tr>\n",
       "      <th>153073</th>\n",
       "      <td>Высокий курс евро по отношению к доллару приве...</td>\n",
       "      <td>высокий курс евро по отношению к доллару приве...</td>\n",
       "      <td>[высокий, курс, евро, отношение, доллар, приве...</td>\n",
       "      <td>высокий курс евро отношение доллар привести ув...</td>\n",
       "    </tr>\n",
       "  </tbody>\n",
       "</table>\n",
       "</div>"
      ],
      "text/plain": [
       "                                                     text  \\\n",
       "183168  На предстоящих 11 октября выборах в Мосгордуму...   \n",
       "153073  Высокий курс евро по отношению к доллару приве...   \n",
       "\n",
       "                                               clean_text  \\\n",
       "183168  на предстоящих  октября выборах в мосгордуму в...   \n",
       "153073  высокий курс евро по отношению к доллару приве...   \n",
       "\n",
       "                                         lemma_clean_text  \\\n",
       "183168  [предстоящий, октябрь, выборы, мосгордума, все...   \n",
       "153073  [высокий, курс, евро, отношение, доллар, приве...   \n",
       "\n",
       "                                    join_lemma_clean_text  \n",
       "183168  предстоящий октябрь выборы мосгордума всеросси...  \n",
       "153073  высокий курс евро отношение доллар привести ув...  "
      ]
     },
     "execution_count": 90,
     "metadata": {},
     "output_type": "execute_result"
    }
   ],
   "source": [
    "X_test['join_lemma_clean_text'] = X_test.lemma_clean_text.apply(lambda x: ' '.join(x))\n",
    "X_test.head(2)"
   ]
  },
  {
   "cell_type": "code",
   "execution_count": null,
   "metadata": {},
   "outputs": [],
   "source": []
  },
  {
   "cell_type": "markdown",
   "metadata": {},
   "source": [
    "* without `min_df`"
   ]
  },
  {
   "cell_type": "code",
   "execution_count": 91,
   "metadata": {},
   "outputs": [
    {
     "name": "stdout",
     "output_type": "stream",
     "text": [
      "CPU times: user 23.1 s, sys: 172 ms, total: 23.2 s\n",
      "Wall time: 23.2 s\n"
     ]
    }
   ],
   "source": [
    "%%time\n",
    "cv_withPrep_notMindf = CountVectorizer()\n",
    "cv_withPrep_notMindf_train = cv_withPrep_notMindf.fit_transform(X_train.join_lemma_clean_text)\n",
    "cv_withPrep_notMindf_test = cv_withPrep_notMindf.transform(X_test.join_lemma_clean_text)"
   ]
  },
  {
   "cell_type": "code",
   "execution_count": 92,
   "metadata": {},
   "outputs": [],
   "source": [
    "dict_bw_withPrep_notMindf = cv_withPrep_notMindf.vocabulary_"
   ]
  },
  {
   "cell_type": "code",
   "execution_count": 93,
   "metadata": {},
   "outputs": [
    {
     "data": {
      "text/plain": [
       "272274"
      ]
     },
     "execution_count": 93,
     "metadata": {},
     "output_type": "execute_result"
    }
   ],
   "source": [
    "len(dict_bw_withPrep_notMindf)"
   ]
  },
  {
   "cell_type": "code",
   "execution_count": null,
   "metadata": {},
   "outputs": [],
   "source": [
    "#for key, value in sorted(dict_bwnotPrep_notMindf.items(), key=lambda item: item[1]):\n",
    " #   print(f'{key}: {value}')"
   ]
  },
  {
   "cell_type": "code",
   "execution_count": 94,
   "metadata": {},
   "outputs": [
    {
     "data": {
      "text/plain": [
       "272274"
      ]
     },
     "execution_count": 94,
     "metadata": {},
     "output_type": "execute_result"
    }
   ],
   "source": [
    "dict_bw_withPrep_notMindf_sorted = sorted(dict_bw_withPrep_notMindf.items(), key=lambda item: item[1])\n",
    "len(dict_bw_withPrep_notMindf_sorted)"
   ]
  },
  {
   "cell_type": "code",
   "execution_count": 95,
   "metadata": {},
   "outputs": [
    {
     "data": {
      "text/plain": [
       "[('aa', 0),\n",
       " ('aaa', 1),\n",
       " ('aaaa', 2),\n",
       " ('aaae', 3),\n",
       " ('aaaru', 4),\n",
       " ('aaarus', 5),\n",
       " ('aabar', 6),\n",
       " ('aabid', 7),\n",
       " ('aabp', 8),\n",
       " ('aac', 9)]"
      ]
     },
     "execution_count": 95,
     "metadata": {},
     "output_type": "execute_result"
    }
   ],
   "source": [
    "dict_bw_withPrep_notMindf_sorted[:10]"
   ]
  },
  {
   "cell_type": "code",
   "execution_count": 96,
   "metadata": {},
   "outputs": [
    {
     "data": {
      "text/plain": [
       "[('ёон', 272264),\n",
       " ('ёпартия', 272265),\n",
       " ('ёрико', 272266),\n",
       " ('ёрничать', 272267),\n",
       " ('ёрш', 272268),\n",
       " ('ёсихико', 272269),\n",
       " ('ёёга', 272270),\n",
       " ('єр', 272271),\n",
       " ('іnternatіonal', 272272),\n",
       " ('іі', 272273)]"
      ]
     },
     "execution_count": 96,
     "metadata": {},
     "output_type": "execute_result"
    }
   ],
   "source": [
    "dict_bw_withPrep_notMindf_sorted[-10:]"
   ]
  },
  {
   "cell_type": "code",
   "execution_count": 97,
   "metadata": {},
   "outputs": [
    {
     "name": "stdout",
     "output_type": "stream",
     "text": [
      "accuracy = 0.9046773238602723\n",
      "\n",
      "classification_report:\n",
      "              precision    recall  f1-score   support\n",
      "\n",
      "           0       0.89      0.89      0.89     19020\n",
      "           1       0.90      0.90      0.90     23378\n",
      "           2       0.94      0.93      0.93     11650\n",
      "\n",
      "   micro avg       0.90      0.90      0.90     54048\n",
      "   macro avg       0.91      0.91      0.91     54048\n",
      "weighted avg       0.90      0.90      0.90     54048\n",
      "\n",
      "\n",
      "confusion_matrix:\n",
      "[[17012  1736   272]\n",
      " [ 1806 21096   476]\n",
      " [  319   543 10788]]\n",
      "CPU times: user 7min 31s, sys: 69 ms, total: 7min 31s\n",
      "Wall time: 7min 31s\n"
     ]
    }
   ],
   "source": [
    "%%time\n",
    "lr = LogisticRegression()\n",
    "lr.fit(cv_withPrep_notMindf_train,y_train)\n",
    "\n",
    "pred_lr = lr.predict(cv_withPrep_notMindf_test)\n",
    "print('accuracy =',accuracy_score(y_test,pred_lr)) # without prepr accuracy = 0.9053989046773239\n",
    "print('\\nclassification_report:')\n",
    "print(classification_report(y_test,pred_lr))\n",
    "print('\\nconfusion_matrix:')\n",
    "print(confusion_matrix(y_test,pred_lr))"
   ]
  },
  {
   "cell_type": "code",
   "execution_count": null,
   "metadata": {},
   "outputs": [],
   "source": []
  },
  {
   "cell_type": "markdown",
   "metadata": {},
   "source": [
    "* with `min_df`"
   ]
  },
  {
   "cell_type": "code",
   "execution_count": 113,
   "metadata": {},
   "outputs": [
    {
     "name": "stdout",
     "output_type": "stream",
     "text": [
      "CPU times: user 21.6 s, sys: 124 ms, total: 21.8 s\n",
      "Wall time: 21.8 s\n"
     ]
    }
   ],
   "source": [
    "%%time\n",
    "cv_withPrep_withMindf = CountVectorizer(min_df=0.1)\n",
    "cv_withPrep_withMindf_train = cv_withPrep_withMindf.fit_transform(X_train.join_lemma_clean_text)\n",
    "cv_withPrep_withMind_test = cv_withPrep_withMindf.transform(X_test.join_lemma_clean_text)"
   ]
  },
  {
   "cell_type": "code",
   "execution_count": 114,
   "metadata": {},
   "outputs": [],
   "source": [
    "dict_bw_withPrep_withMindf = cv_withPrep_withMindf.vocabulary_"
   ]
  },
  {
   "cell_type": "code",
   "execution_count": 115,
   "metadata": {},
   "outputs": [
    {
     "data": {
      "text/plain": [
       "111"
      ]
     },
     "execution_count": 115,
     "metadata": {},
     "output_type": "execute_result"
    }
   ],
   "source": [
    "len(dict_bw_withPrep_withMindf)"
   ]
  },
  {
   "cell_type": "code",
   "execution_count": 116,
   "metadata": {},
   "outputs": [],
   "source": [
    "#for key, value in sorted(dict_bwnotPrep_notMindf.items(), key=lambda item: item[1]):\n",
    " #   print(f'{key}: {value}')"
   ]
  },
  {
   "cell_type": "code",
   "execution_count": 117,
   "metadata": {},
   "outputs": [
    {
     "data": {
      "text/plain": [
       "111"
      ]
     },
     "execution_count": 117,
     "metadata": {},
     "output_type": "execute_result"
    }
   ],
   "source": [
    "dict_bw_withPrep_withMindf_sorted = sorted(dict_bw_withPrep_withMindf.items(), key=lambda item: item[1])\n",
    "len(dict_bw_withPrep_withMindf_sorted)"
   ]
  },
  {
   "cell_type": "code",
   "execution_count": 118,
   "metadata": {},
   "outputs": [
    {
     "data": {
      "text/plain": [
       "[('агентство', 0),\n",
       " ('акция', 1),\n",
       " ('американский', 2),\n",
       " ('бывший', 3),\n",
       " ('быть', 4),\n",
       " ('власть', 5),\n",
       " ('военный', 6),\n",
       " ('вопрос', 7),\n",
       " ('время', 8),\n",
       " ('газета', 9)]"
      ]
     },
     "execution_count": 118,
     "metadata": {},
     "output_type": "execute_result"
    }
   ],
   "source": [
    "dict_bw_withPrep_withMindf_sorted[:10]"
   ]
  },
  {
   "cell_type": "code",
   "execution_count": 119,
   "metadata": {},
   "outputs": [
    {
     "data": {
      "text/plain": [
       "[('тысяча', 101),\n",
       " ('управление', 102),\n",
       " ('ход', 103),\n",
       " ('частность', 104),\n",
       " ('часть', 105),\n",
       " ('человек', 106),\n",
       " ('число', 107),\n",
       " ('член', 108),\n",
       " ('это', 109),\n",
       " ('являться', 110)]"
      ]
     },
     "execution_count": 119,
     "metadata": {},
     "output_type": "execute_result"
    }
   ],
   "source": [
    "dict_bw_withPrep_withMindf_sorted[-10:]"
   ]
  },
  {
   "cell_type": "code",
   "execution_count": 120,
   "metadata": {},
   "outputs": [
    {
     "name": "stdout",
     "output_type": "stream",
     "text": [
      "accuracy = 0.8064498223801065\n",
      "\n",
      "classification_report:\n",
      "              precision    recall  f1-score   support\n",
      "\n",
      "           0       0.78      0.82      0.80     19020\n",
      "           1       0.81      0.81      0.81     23378\n",
      "           2       0.85      0.76      0.80     11650\n",
      "\n",
      "   micro avg       0.81      0.81      0.81     54048\n",
      "   macro avg       0.81      0.80      0.81     54048\n",
      "weighted avg       0.81      0.81      0.81     54048\n",
      "\n",
      "\n",
      "confusion_matrix:\n",
      "[[15690  2732   598]\n",
      " [ 3421 19013   944]\n",
      " [ 1081  1685  8884]]\n",
      "CPU times: user 14 s, sys: 0 ns, total: 14 s\n",
      "Wall time: 14 s\n"
     ]
    }
   ],
   "source": [
    "%%time\n",
    "lr = LogisticRegression()\n",
    "lr.fit(cv_withPrep_withMindf_train,y_train)\n",
    "\n",
    "pred_lr = lr.predict(cv_withPrep_withMind_test)\n",
    "print('accuracy =',accuracy_score(y_test,pred_lr)) # without prepr accuracy = 0.7625999111900533\n",
    "print('\\nclassification_report:')\n",
    "print(classification_report(y_test,pred_lr))\n",
    "print('\\nconfusion_matrix:')\n",
    "print(confusion_matrix(y_test,pred_lr))"
   ]
  },
  {
   "cell_type": "code",
   "execution_count": null,
   "metadata": {},
   "outputs": [],
   "source": []
  },
  {
   "cell_type": "code",
   "execution_count": null,
   "metadata": {},
   "outputs": [],
   "source": []
  },
  {
   "cell_type": "code",
   "execution_count": null,
   "metadata": {},
   "outputs": [],
   "source": []
  }
 ],
 "metadata": {
  "kernelspec": {
   "display_name": "Python 3",
   "language": "python",
   "name": "python3"
  },
  "language_info": {
   "codemirror_mode": {
    "name": "ipython",
    "version": 3
   },
   "file_extension": ".py",
   "mimetype": "text/x-python",
   "name": "python",
   "nbconvert_exporter": "python",
   "pygments_lexer": "ipython3",
   "version": "3.6.7"
  }
 },
 "nbformat": 4,
 "nbformat_minor": 2
}
